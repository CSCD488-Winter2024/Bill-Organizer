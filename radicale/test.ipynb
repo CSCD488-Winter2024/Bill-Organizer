{
 "cells": [
  {
   "cell_type": "code",
   "execution_count": 2,
   "metadata": {},
   "outputs": [
    {
     "name": "stdout",
     "output_type": "stream",
     "text": [
      "Collecting caldav\n",
      "  Downloading caldav-1.3.9-py3-none-any.whl.metadata (1.7 kB)\n",
      "Requirement already satisfied: vobject in /usr/local/python/3.10.13/lib/python3.10/site-packages (from caldav) (0.9.7)\n",
      "Collecting lxml (from caldav)\n",
      "  Downloading lxml-5.2.2-cp310-cp310-manylinux_2_28_x86_64.whl.metadata (3.4 kB)\n",
      "Requirement already satisfied: requests in /home/codespace/.local/lib/python3.10/site-packages (from caldav) (2.31.0)\n",
      "Collecting icalendar (from caldav)\n",
      "  Downloading icalendar-5.0.12-py3-none-any.whl.metadata (31 kB)\n",
      "Collecting recurring-ical-events>=2.0.0 (from caldav)\n",
      "  Downloading recurring_ical_events-2.2.1-py3-none-any.whl.metadata (20 kB)\n",
      "Requirement already satisfied: pytz in /home/codespace/.local/lib/python3.10/site-packages (from caldav) (2024.1)\n",
      "Collecting tzlocal (from caldav)\n",
      "  Downloading tzlocal-5.2-py3-none-any.whl.metadata (7.8 kB)\n",
      "Requirement already satisfied: python-dateutil>=2.8.1 in /home/codespace/.local/lib/python3.10/site-packages (from recurring-ical-events>=2.0.0->caldav) (2.9.0.post0)\n",
      "Collecting x-wr-timezone<1.0.0 (from recurring-ical-events>=2.0.0->caldav)\n",
      "  Downloading x_wr_timezone-0.0.7-py3-none-any.whl.metadata (9.3 kB)\n",
      "Requirement already satisfied: charset-normalizer<4,>=2 in /home/codespace/.local/lib/python3.10/site-packages (from requests->caldav) (3.3.2)\n",
      "Requirement already satisfied: idna<4,>=2.5 in /home/codespace/.local/lib/python3.10/site-packages (from requests->caldav) (3.6)\n",
      "Requirement already satisfied: urllib3<3,>=1.21.1 in /usr/local/python/3.10.13/lib/python3.10/site-packages (from requests->caldav) (2.0.7)\n",
      "Requirement already satisfied: certifi>=2017.4.17 in /home/codespace/.local/lib/python3.10/site-packages (from requests->caldav) (2024.2.2)\n",
      "Requirement already satisfied: six>=1.5 in /home/codespace/.local/lib/python3.10/site-packages (from python-dateutil>=2.8.1->recurring-ical-events>=2.0.0->caldav) (1.16.0)\n",
      "Downloading caldav-1.3.9-py3-none-any.whl (67 kB)\n",
      "\u001b[2K   \u001b[90m━━━━━━━━━━━━━━━━━━━━━━━━━━━━━━━━━━━━━━━━\u001b[0m \u001b[32m67.2/67.2 kB\u001b[0m \u001b[31m2.7 MB/s\u001b[0m eta \u001b[36m0:00:00\u001b[0m\n",
      "\u001b[?25hDownloading recurring_ical_events-2.2.1-py3-none-any.whl (18 kB)\n",
      "Downloading icalendar-5.0.12-py3-none-any.whl (116 kB)\n",
      "\u001b[2K   \u001b[90m━━━━━━━━━━━━━━━━━━━━━━━━━━━━━━━━━━━━━━━━\u001b[0m \u001b[32m116.3/116.3 kB\u001b[0m \u001b[31m5.1 MB/s\u001b[0m eta \u001b[36m0:00:00\u001b[0m\n",
      "\u001b[?25hDownloading lxml-5.2.2-cp310-cp310-manylinux_2_28_x86_64.whl (5.0 MB)\n",
      "\u001b[2K   \u001b[90m━━━━━━━━━━━━━━━━━━━━━━━━━━━━━━━━━━━━━━━━\u001b[0m \u001b[32m5.0/5.0 MB\u001b[0m \u001b[31m66.5 MB/s\u001b[0m eta \u001b[36m0:00:00\u001b[0m:00:01\u001b[0m\n",
      "\u001b[?25hDownloading tzlocal-5.2-py3-none-any.whl (17 kB)\n",
      "Downloading x_wr_timezone-0.0.7-py3-none-any.whl (10 kB)\n",
      "Installing collected packages: tzlocal, lxml, icalendar, x-wr-timezone, recurring-ical-events, caldav\n",
      "Successfully installed caldav-1.3.9 icalendar-5.0.12 lxml-5.2.2 recurring-ical-events-2.2.1 tzlocal-5.2 x-wr-timezone-0.0.7\n"
     ]
    }
   ],
   "source": [
    "!pip install caldav\n",
    "import manage_calendar"
   ]
  },
  {
   "cell_type": "code",
   "execution_count": null,
   "metadata": {},
   "outputs": [],
   "source": [
    "## CONFIGURATION.\n",
    "caldav_url = \"localhost:5232\"\n",
    "username = \"me\"\n",
    "password = \"password1\""
   ]
  },
  {
   "cell_type": "code",
   "execution_count": 3,
   "metadata": {},
   "outputs": [
    {
     "ename": "TypeError",
     "evalue": "get_calendars() missing 1 required positional argument: 'client'",
     "output_type": "error",
     "traceback": [
      "\u001b[0;31m---------------------------------------------------------------------------\u001b[0m",
      "\u001b[0;31mTypeError\u001b[0m                                 Traceback (most recent call last)",
      "Cell \u001b[0;32mIn[3], line 2\u001b[0m\n\u001b[1;32m      1\u001b[0m \u001b[38;5;66;03m# Get the calendar\u001b[39;00m\n\u001b[0;32m----> 2\u001b[0m calendar \u001b[38;5;241m=\u001b[39m \u001b[43mmanage_calendar\u001b[49m\u001b[38;5;241;43m.\u001b[39;49m\u001b[43mget_calendars\u001b[49m\u001b[43m(\u001b[49m\u001b[43m)\u001b[49m[\u001b[38;5;241m0\u001b[39m]\n",
      "\u001b[0;31mTypeError\u001b[0m: get_calendars() missing 1 required positional argument: 'client'"
     ]
    }
   ],
   "source": [
    "# Get the calendar\n",
    "with caldav.DAVClient(\n",
    "        url=caldav_url,\n",
    "        username=username,\n",
    "        password=password,\n",
    "    ) as client:\n",
    "calendar = manage_calendar.get_calendars()[0]"
   ]
  },
  {
   "cell_type": "code",
   "execution_count": null,
   "metadata": {},
   "outputs": [],
   "source": []
  }
 ],
 "metadata": {
  "kernelspec": {
   "display_name": "Python 3",
   "language": "python",
   "name": "python3"
  },
  "language_info": {
   "codemirror_mode": {
    "name": "ipython",
    "version": 3
   },
   "file_extension": ".py",
   "mimetype": "text/x-python",
   "name": "python",
   "nbconvert_exporter": "python",
   "pygments_lexer": "ipython3",
   "version": "3.10.13"
  }
 },
 "nbformat": 4,
 "nbformat_minor": 2
}
