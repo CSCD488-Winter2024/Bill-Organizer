{
 "cells": [
  {
   "cell_type": "code",
   "execution_count": 5,
   "metadata": {},
   "outputs": [
    {
     "name": "stdout",
     "output_type": "stream",
     "text": [
      "Requirement already satisfied: caldav in /usr/local/python/3.10.13/lib/python3.10/site-packages (1.3.9)\n",
      "Requirement already satisfied: vobject in /usr/local/python/3.10.13/lib/python3.10/site-packages (from caldav) (0.9.7)\n",
      "Requirement already satisfied: lxml in /usr/local/python/3.10.13/lib/python3.10/site-packages (from caldav) (5.2.2)\n",
      "Requirement already satisfied: requests in /home/codespace/.local/lib/python3.10/site-packages (from caldav) (2.31.0)\n",
      "Requirement already satisfied: icalendar in /usr/local/python/3.10.13/lib/python3.10/site-packages (from caldav) (5.0.12)\n",
      "Requirement already satisfied: recurring-ical-events>=2.0.0 in /usr/local/python/3.10.13/lib/python3.10/site-packages (from caldav) (2.2.1)\n",
      "Requirement already satisfied: pytz in /home/codespace/.local/lib/python3.10/site-packages (from caldav) (2024.1)\n",
      "Requirement already satisfied: tzlocal in /usr/local/python/3.10.13/lib/python3.10/site-packages (from caldav) (5.2)\n",
      "Requirement already satisfied: python-dateutil>=2.8.1 in /home/codespace/.local/lib/python3.10/site-packages (from recurring-ical-events>=2.0.0->caldav) (2.9.0.post0)\n",
      "Requirement already satisfied: x-wr-timezone<1.0.0 in /usr/local/python/3.10.13/lib/python3.10/site-packages (from recurring-ical-events>=2.0.0->caldav) (0.0.7)\n",
      "Requirement already satisfied: charset-normalizer<4,>=2 in /home/codespace/.local/lib/python3.10/site-packages (from requests->caldav) (3.3.2)\n",
      "Requirement already satisfied: idna<4,>=2.5 in /home/codespace/.local/lib/python3.10/site-packages (from requests->caldav) (3.6)\n",
      "Requirement already satisfied: urllib3<3,>=1.21.1 in /usr/local/python/3.10.13/lib/python3.10/site-packages (from requests->caldav) (2.0.7)\n",
      "Requirement already satisfied: certifi>=2017.4.17 in /home/codespace/.local/lib/python3.10/site-packages (from requests->caldav) (2024.2.2)\n",
      "Requirement already satisfied: six>=1.5 in /home/codespace/.local/lib/python3.10/site-packages (from python-dateutil>=2.8.1->recurring-ical-events>=2.0.0->caldav) (1.16.0)\n"
     ]
    }
   ],
   "source": [
    "!pip install caldav\n",
    "import manage_calendar\n",
    "import caldav\n",
    "from datetime import datetime"
   ]
  },
  {
   "cell_type": "code",
   "execution_count": 17,
   "metadata": {},
   "outputs": [],
   "source": [
    "## CONFIGURATION.\n",
    "caldav_url = \"https://cuddly-tribble-jr9p6gj4wgc5pqx-5232.app.github.dev/.web/:5232\"\n",
    "username = \"me\"\n",
    "password = \"password1\""
   ]
  },
  {
   "cell_type": "code",
   "execution_count": 18,
   "metadata": {},
   "outputs": [
    {
     "ename": "NotImplementedError",
     "evalue": "The server does not provide any of the currently supported authentication methods: basic, digest, bearer",
     "output_type": "error",
     "traceback": [
      "\u001b[0;31m---------------------------------------------------------------------------\u001b[0m",
      "\u001b[0;31mNotImplementedError\u001b[0m                       Traceback (most recent call last)",
      "Cell \u001b[0;32mIn[18], line 7\u001b[0m\n\u001b[1;32m      1\u001b[0m \u001b[38;5;28;01mwith\u001b[39;00m caldav\u001b[38;5;241m.\u001b[39mDAVClient(\n\u001b[1;32m      2\u001b[0m         url\u001b[38;5;241m=\u001b[39mcaldav_url,\n\u001b[1;32m      3\u001b[0m         username\u001b[38;5;241m=\u001b[39musername,\n\u001b[1;32m      4\u001b[0m         password\u001b[38;5;241m=\u001b[39mpassword,\n\u001b[1;32m      5\u001b[0m     ) \u001b[38;5;28;01mas\u001b[39;00m client:\n\u001b[1;32m      6\u001b[0m     \u001b[38;5;66;03m# Get the calendar\u001b[39;00m\n\u001b[0;32m----> 7\u001b[0m     calendar \u001b[38;5;241m=\u001b[39m \u001b[43mmanage_calendar\u001b[49m\u001b[38;5;241;43m.\u001b[39;49m\u001b[43mget_calendars\u001b[49m\u001b[43m(\u001b[49m\u001b[43mclient\u001b[49m\u001b[43m)\u001b[49m[\u001b[38;5;241m0\u001b[39m]\n\u001b[1;32m      8\u001b[0m     \u001b[38;5;28mprint\u001b[39m(calendar)\n",
      "File \u001b[0;32m/workspaces/Bill-Organizer/radicale/manage_calendar.py:31\u001b[0m, in \u001b[0;36mget_calendars\u001b[0;34m(client)\u001b[0m\n\u001b[1;32m     29\u001b[0m \u001b[38;5;28;01mdef\u001b[39;00m \u001b[38;5;21mget_calendars\u001b[39m(client : caldav\u001b[38;5;241m.\u001b[39mDAVClient):\n\u001b[1;32m     30\u001b[0m     calendars \u001b[38;5;241m=\u001b[39m client\u001b[38;5;241m.\u001b[39mprincipal()\u001b[38;5;241m.\u001b[39mcalendars()\n\u001b[0;32m---> 31\u001b[0m     \u001b[38;5;28;01mreturn\u001b[39;00m calendars\n",
      "File \u001b[0;32m~/.python/current/lib/python3.10/site-packages/caldav/davclient.py:425\u001b[0m, in \u001b[0;36mDAVClient.principal\u001b[0;34m(self, *largs, **kwargs)\u001b[0m\n\u001b[1;32m    416\u001b[0m \u001b[38;5;250m\u001b[39m\u001b[38;5;124;03m\"\"\"\u001b[39;00m\n\u001b[1;32m    417\u001b[0m \u001b[38;5;124;03mConvenience method, it gives a bit more object-oriented feel to\u001b[39;00m\n\u001b[1;32m    418\u001b[0m \u001b[38;5;124;03mwrite client.principal() than Principal(client).\u001b[39;00m\n\u001b[0;32m   (...)\u001b[0m\n\u001b[1;32m    422\u001b[0m \u001b[38;5;124;03mcalendars.\u001b[39;00m\n\u001b[1;32m    423\u001b[0m \u001b[38;5;124;03m\"\"\"\u001b[39;00m\n\u001b[1;32m    424\u001b[0m \u001b[38;5;28;01mif\u001b[39;00m \u001b[38;5;129;01mnot\u001b[39;00m \u001b[38;5;28mself\u001b[39m\u001b[38;5;241m.\u001b[39m_principal:\n\u001b[0;32m--> 425\u001b[0m     \u001b[38;5;28mself\u001b[39m\u001b[38;5;241m.\u001b[39m_principal \u001b[38;5;241m=\u001b[39m \u001b[43mPrincipal\u001b[49m\u001b[43m(\u001b[49m\u001b[43mclient\u001b[49m\u001b[38;5;241;43m=\u001b[39;49m\u001b[38;5;28;43mself\u001b[39;49m\u001b[43m,\u001b[49m\u001b[43m \u001b[49m\u001b[38;5;241;43m*\u001b[39;49m\u001b[43mlargs\u001b[49m\u001b[43m,\u001b[49m\u001b[43m \u001b[49m\u001b[38;5;241;43m*\u001b[39;49m\u001b[38;5;241;43m*\u001b[39;49m\u001b[43mkwargs\u001b[49m\u001b[43m)\u001b[49m\n\u001b[1;32m    426\u001b[0m \u001b[38;5;28;01mreturn\u001b[39;00m \u001b[38;5;28mself\u001b[39m\u001b[38;5;241m.\u001b[39m_principal\n",
      "File \u001b[0;32m~/.python/current/lib/python3.10/site-packages/caldav/objects.py:506\u001b[0m, in \u001b[0;36mPrincipal.__init__\u001b[0;34m(self, client, url)\u001b[0m\n\u001b[1;32m    504\u001b[0m \u001b[38;5;28;01mif\u001b[39;00m url \u001b[38;5;129;01mis\u001b[39;00m \u001b[38;5;28;01mNone\u001b[39;00m:\n\u001b[1;32m    505\u001b[0m     \u001b[38;5;28mself\u001b[39m\u001b[38;5;241m.\u001b[39murl \u001b[38;5;241m=\u001b[39m \u001b[38;5;28mself\u001b[39m\u001b[38;5;241m.\u001b[39mclient\u001b[38;5;241m.\u001b[39murl\n\u001b[0;32m--> 506\u001b[0m     cup \u001b[38;5;241m=\u001b[39m \u001b[38;5;28;43mself\u001b[39;49m\u001b[38;5;241;43m.\u001b[39;49m\u001b[43mget_property\u001b[49m\u001b[43m(\u001b[49m\u001b[43mdav\u001b[49m\u001b[38;5;241;43m.\u001b[39;49m\u001b[43mCurrentUserPrincipal\u001b[49m\u001b[43m(\u001b[49m\u001b[43m)\u001b[49m\u001b[43m)\u001b[49m\n\u001b[1;32m    507\u001b[0m     \u001b[38;5;28mself\u001b[39m\u001b[38;5;241m.\u001b[39murl \u001b[38;5;241m=\u001b[39m \u001b[38;5;28mself\u001b[39m\u001b[38;5;241m.\u001b[39mclient\u001b[38;5;241m.\u001b[39murl\u001b[38;5;241m.\u001b[39mjoin(URL\u001b[38;5;241m.\u001b[39mobjectify(cup))\n",
      "File \u001b[0;32m~/.python/current/lib/python3.10/site-packages/caldav/objects.py:224\u001b[0m, in \u001b[0;36mDAVObject.get_property\u001b[0;34m(self, prop, use_cached, **passthrough)\u001b[0m\n\u001b[1;32m    222\u001b[0m     \u001b[38;5;28;01mif\u001b[39;00m prop\u001b[38;5;241m.\u001b[39mtag \u001b[38;5;129;01min\u001b[39;00m \u001b[38;5;28mself\u001b[39m\u001b[38;5;241m.\u001b[39mprops:\n\u001b[1;32m    223\u001b[0m         \u001b[38;5;28;01mreturn\u001b[39;00m \u001b[38;5;28mself\u001b[39m\u001b[38;5;241m.\u001b[39mprops[prop\u001b[38;5;241m.\u001b[39mtag]\n\u001b[0;32m--> 224\u001b[0m foo \u001b[38;5;241m=\u001b[39m \u001b[38;5;28;43mself\u001b[39;49m\u001b[38;5;241;43m.\u001b[39;49m\u001b[43mget_properties\u001b[49m\u001b[43m(\u001b[49m\u001b[43m[\u001b[49m\u001b[43mprop\u001b[49m\u001b[43m]\u001b[49m\u001b[43m,\u001b[49m\u001b[43m \u001b[49m\u001b[38;5;241;43m*\u001b[39;49m\u001b[38;5;241;43m*\u001b[39;49m\u001b[43mpassthrough\u001b[49m\u001b[43m)\u001b[49m\n\u001b[1;32m    225\u001b[0m \u001b[38;5;28;01mreturn\u001b[39;00m foo\u001b[38;5;241m.\u001b[39mget(prop\u001b[38;5;241m.\u001b[39mtag, \u001b[38;5;28;01mNone\u001b[39;00m)\n",
      "File \u001b[0;32m~/.python/current/lib/python3.10/site-packages/caldav/objects.py:249\u001b[0m, in \u001b[0;36mDAVObject.get_properties\u001b[0;34m(self, props, depth, parse_response_xml, parse_props)\u001b[0m\n\u001b[1;32m    230\u001b[0m \u001b[38;5;250m\u001b[39m\u001b[38;5;124;03m\"\"\"Get properties (PROPFIND) for this object.\u001b[39;00m\n\u001b[1;32m    231\u001b[0m \n\u001b[1;32m    232\u001b[0m \u001b[38;5;124;03mWith parse_response_xml and parse_props set to True a\u001b[39;00m\n\u001b[0;32m   (...)\u001b[0m\n\u001b[1;32m    246\u001b[0m \n\u001b[1;32m    247\u001b[0m \u001b[38;5;124;03m\"\"\"\u001b[39;00m\n\u001b[1;32m    248\u001b[0m rc \u001b[38;5;241m=\u001b[39m \u001b[38;5;28;01mNone\u001b[39;00m\n\u001b[0;32m--> 249\u001b[0m response \u001b[38;5;241m=\u001b[39m \u001b[38;5;28;43mself\u001b[39;49m\u001b[38;5;241;43m.\u001b[39;49m\u001b[43m_query_properties\u001b[49m\u001b[43m(\u001b[49m\u001b[43mprops\u001b[49m\u001b[43m,\u001b[49m\u001b[43m \u001b[49m\u001b[43mdepth\u001b[49m\u001b[43m)\u001b[49m\n\u001b[1;32m    250\u001b[0m \u001b[38;5;28;01mif\u001b[39;00m \u001b[38;5;129;01mnot\u001b[39;00m parse_response_xml:\n\u001b[1;32m    251\u001b[0m     \u001b[38;5;28;01mreturn\u001b[39;00m response\n",
      "File \u001b[0;32m~/.python/current/lib/python3.10/site-packages/caldav/objects.py:172\u001b[0m, in \u001b[0;36mDAVObject._query_properties\u001b[0;34m(self, props, depth)\u001b[0m\n\u001b[1;32m    169\u001b[0m     prop \u001b[38;5;241m=\u001b[39m dav\u001b[38;5;241m.\u001b[39mProp() \u001b[38;5;241m+\u001b[39m props\n\u001b[1;32m    170\u001b[0m     root \u001b[38;5;241m=\u001b[39m dav\u001b[38;5;241m.\u001b[39mPropfind() \u001b[38;5;241m+\u001b[39m prop\n\u001b[0;32m--> 172\u001b[0m \u001b[38;5;28;01mreturn\u001b[39;00m \u001b[38;5;28;43mself\u001b[39;49m\u001b[38;5;241;43m.\u001b[39;49m\u001b[43m_query\u001b[49m\u001b[43m(\u001b[49m\u001b[43mroot\u001b[49m\u001b[43m,\u001b[49m\u001b[43m \u001b[49m\u001b[43mdepth\u001b[49m\u001b[43m)\u001b[49m\n",
      "File \u001b[0;32m~/.python/current/lib/python3.10/site-packages/caldav/objects.py:197\u001b[0m, in \u001b[0;36mDAVObject._query\u001b[0;34m(self, root, depth, query_method, url, expected_return_value)\u001b[0m\n\u001b[1;32m    195\u001b[0m \u001b[38;5;28;01mif\u001b[39;00m url \u001b[38;5;129;01mis\u001b[39;00m \u001b[38;5;28;01mNone\u001b[39;00m:\n\u001b[1;32m    196\u001b[0m     url \u001b[38;5;241m=\u001b[39m \u001b[38;5;28mself\u001b[39m\u001b[38;5;241m.\u001b[39murl\n\u001b[0;32m--> 197\u001b[0m ret \u001b[38;5;241m=\u001b[39m \u001b[38;5;28;43mgetattr\u001b[39;49m\u001b[43m(\u001b[49m\u001b[38;5;28;43mself\u001b[39;49m\u001b[38;5;241;43m.\u001b[39;49m\u001b[43mclient\u001b[49m\u001b[43m,\u001b[49m\u001b[43m \u001b[49m\u001b[43mquery_method\u001b[49m\u001b[43m)\u001b[49m\u001b[43m(\u001b[49m\u001b[43murl\u001b[49m\u001b[43m,\u001b[49m\u001b[43m \u001b[49m\u001b[43mbody\u001b[49m\u001b[43m,\u001b[49m\u001b[43m \u001b[49m\u001b[43mdepth\u001b[49m\u001b[43m)\u001b[49m\n\u001b[1;32m    198\u001b[0m \u001b[38;5;28;01mif\u001b[39;00m ret\u001b[38;5;241m.\u001b[39mstatus \u001b[38;5;241m==\u001b[39m \u001b[38;5;241m404\u001b[39m:\n\u001b[1;32m    199\u001b[0m     \u001b[38;5;28;01mraise\u001b[39;00m error\u001b[38;5;241m.\u001b[39mNotFoundError(errmsg(ret))\n",
      "File \u001b[0;32m~/.python/current/lib/python3.10/site-packages/caldav/davclient.py:473\u001b[0m, in \u001b[0;36mDAVClient.propfind\u001b[0;34m(self, url, props, depth)\u001b[0m\n\u001b[1;32m    461\u001b[0m \u001b[38;5;28;01mdef\u001b[39;00m \u001b[38;5;21mpropfind\u001b[39m(\u001b[38;5;28mself\u001b[39m, url\u001b[38;5;241m=\u001b[39m\u001b[38;5;28;01mNone\u001b[39;00m, props\u001b[38;5;241m=\u001b[39m\u001b[38;5;124m\"\u001b[39m\u001b[38;5;124m\"\u001b[39m, depth\u001b[38;5;241m=\u001b[39m\u001b[38;5;241m0\u001b[39m):\n\u001b[1;32m    462\u001b[0m \u001b[38;5;250m    \u001b[39m\u001b[38;5;124;03m\"\"\"\u001b[39;00m\n\u001b[1;32m    463\u001b[0m \u001b[38;5;124;03m    Send a propfind request.\u001b[39;00m\n\u001b[1;32m    464\u001b[0m \n\u001b[0;32m   (...)\u001b[0m\n\u001b[1;32m    471\u001b[0m \u001b[38;5;124;03m     * DAVResponse\u001b[39;00m\n\u001b[1;32m    472\u001b[0m \u001b[38;5;124;03m    \"\"\"\u001b[39;00m\n\u001b[0;32m--> 473\u001b[0m     \u001b[38;5;28;01mreturn\u001b[39;00m \u001b[38;5;28;43mself\u001b[39;49m\u001b[38;5;241;43m.\u001b[39;49m\u001b[43mrequest\u001b[49m\u001b[43m(\u001b[49m\u001b[43murl\u001b[49m\u001b[43m \u001b[49m\u001b[38;5;129;43;01mor\u001b[39;49;00m\u001b[43m \u001b[49m\u001b[38;5;28;43mself\u001b[39;49m\u001b[38;5;241;43m.\u001b[39;49m\u001b[43murl\u001b[49m\u001b[43m,\u001b[49m\u001b[43m \u001b[49m\u001b[38;5;124;43m\"\u001b[39;49m\u001b[38;5;124;43mPROPFIND\u001b[39;49m\u001b[38;5;124;43m\"\u001b[39;49m\u001b[43m,\u001b[49m\u001b[43m \u001b[49m\u001b[43mprops\u001b[49m\u001b[43m,\u001b[49m\u001b[43m \u001b[49m\u001b[43m{\u001b[49m\u001b[38;5;124;43m\"\u001b[39;49m\u001b[38;5;124;43mDepth\u001b[39;49m\u001b[38;5;124;43m\"\u001b[39;49m\u001b[43m:\u001b[49m\u001b[43m \u001b[49m\u001b[38;5;28;43mstr\u001b[39;49m\u001b[43m(\u001b[49m\u001b[43mdepth\u001b[49m\u001b[43m)\u001b[49m\u001b[43m}\u001b[49m\u001b[43m)\u001b[49m\n",
      "File \u001b[0;32m~/.python/current/lib/python3.10/site-packages/caldav/davclient.py:643\u001b[0m, in \u001b[0;36mDAVClient.request\u001b[0;34m(self, url, method, body, headers)\u001b[0m\n\u001b[1;32m    641\u001b[0m         \u001b[38;5;28mself\u001b[39m\u001b[38;5;241m.\u001b[39mauth \u001b[38;5;241m=\u001b[39m HTTPBearerAuth(\u001b[38;5;28mself\u001b[39m\u001b[38;5;241m.\u001b[39mpassword)\n\u001b[1;32m    642\u001b[0m     \u001b[38;5;28;01melse\u001b[39;00m:\n\u001b[0;32m--> 643\u001b[0m         \u001b[38;5;28;01mraise\u001b[39;00m \u001b[38;5;167;01mNotImplementedError\u001b[39;00m(\n\u001b[1;32m    644\u001b[0m             \u001b[38;5;124m\"\u001b[39m\u001b[38;5;124mThe server does not provide any of the currently \u001b[39m\u001b[38;5;124m\"\u001b[39m\n\u001b[1;32m    645\u001b[0m             \u001b[38;5;124m\"\u001b[39m\u001b[38;5;124msupported authentication methods: basic, digest, bearer\u001b[39m\u001b[38;5;124m\"\u001b[39m\n\u001b[1;32m    646\u001b[0m         )\n\u001b[1;32m    648\u001b[0m     \u001b[38;5;28;01mreturn\u001b[39;00m \u001b[38;5;28mself\u001b[39m\u001b[38;5;241m.\u001b[39mrequest(url, method, body, headers)\n\u001b[1;32m    650\u001b[0m \u001b[38;5;28;01melif\u001b[39;00m (\n\u001b[1;32m    651\u001b[0m     r\u001b[38;5;241m.\u001b[39mstatus_code \u001b[38;5;241m==\u001b[39m \u001b[38;5;241m401\u001b[39m\n\u001b[1;32m    652\u001b[0m     \u001b[38;5;129;01mand\u001b[39;00m \u001b[38;5;124m\"\u001b[39m\u001b[38;5;124mWWW-Authenticate\u001b[39m\u001b[38;5;124m\"\u001b[39m \u001b[38;5;129;01min\u001b[39;00m r\u001b[38;5;241m.\u001b[39mheaders\n\u001b[0;32m   (...)\u001b[0m\n\u001b[1;32m    663\u001b[0m     \u001b[38;5;66;03m## sequence and not a string (see commit 13a4714, which\u001b[39;00m\n\u001b[1;32m    664\u001b[0m     \u001b[38;5;66;03m## introduced this regression)\u001b[39;00m\n",
      "\u001b[0;31mNotImplementedError\u001b[0m: The server does not provide any of the currently supported authentication methods: basic, digest, bearer"
     ]
    }
   ],
   "source": [
    "with caldav.DAVClient(\n",
    "        url=caldav_url,\n",
    "        username=username,\n",
    "        password=password,\n",
    "    ) as client:\n",
    "    # Get the calendar\n",
    "    calendar = manage_calendar.get_calendars(client)[0]\n",
    "    print(calendar)"
   ]
  },
  {
   "cell_type": "code",
   "execution_count": null,
   "metadata": {},
   "outputs": [],
   "source": []
  }
 ],
 "metadata": {
  "kernelspec": {
   "display_name": "Python 3",
   "language": "python",
   "name": "python3"
  },
  "language_info": {
   "codemirror_mode": {
    "name": "ipython",
    "version": 3
   },
   "file_extension": ".py",
   "mimetype": "text/x-python",
   "name": "python",
   "nbconvert_exporter": "python",
   "pygments_lexer": "ipython3",
   "version": "3.10.13"
  }
 },
 "nbformat": 4,
 "nbformat_minor": 2
}
